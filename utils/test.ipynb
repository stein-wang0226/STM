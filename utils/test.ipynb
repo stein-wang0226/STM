{
 "cells": [
  {
   "cell_type": "code",
   "execution_count": 3,
   "metadata": {
    "collapsed": true
   },
   "outputs": [
    {
     "name": "stdout",
     "output_type": "stream",
     "text": [
      "Loaded Array 1:\n",
      "[1 2 3 4 5]\n",
      "Loaded Array 2:\n",
      "[[1 2 3]\n",
      " [4 5 6]]\n"
     ]
    }
   ],
   "source": [
    "import numpy as np\n",
    "\n",
    "# 创建一些示例数据\n",
    "array1 = np.array([1, 2, 3, 4, 5])\n",
    "array2 = np.array([[1, 2, 3], [4, 5, 6]])\n",
    "\n",
    "# 将数据保存到 NPZ 文件中\n",
    "np.savez('/data.npz', array1=array1, array2=array2)\n",
    "\n",
    "# 从 NPZ 文件中读取数据\n",
    "data = np.load('data.npz')\n",
    "\n",
    "# 获取保存的数组\n",
    "loaded_array1 = data['array1']\n",
    "loaded_array2 = data['array2']\n",
    "\n",
    "# 打印加载的数组\n",
    "print(\"Loaded Array 1:\")\n",
    "print(loaded_array1)\n",
    "\n",
    "print(\"Loaded Array 2:\")\n",
    "print(loaded_array2)\n",
    "\n",
    "# 关闭文件\n",
    "data.close()\n"
   ]
  },
  {
   "cell_type": "code",
   "execution_count": null,
   "outputs": [],
   "source": [],
   "metadata": {
    "collapsed": false
   }
  }
 ],
 "metadata": {
  "kernelspec": {
   "display_name": "Python 3",
   "language": "python",
   "name": "python3"
  },
  "language_info": {
   "codemirror_mode": {
    "name": "ipython",
    "version": 2
   },
   "file_extension": ".py",
   "mimetype": "text/x-python",
   "name": "python",
   "nbconvert_exporter": "python",
   "pygments_lexer": "ipython2",
   "version": "2.7.6"
  }
 },
 "nbformat": 4,
 "nbformat_minor": 0
}
